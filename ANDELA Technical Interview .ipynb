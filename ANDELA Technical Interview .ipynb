{
 "cells": [
  {
   "cell_type": "markdown",
   "id": "97b9902f",
   "metadata": {},
   "source": [
    "The distance between two strings s and s’ is a similarity coefficient between the two of them. For this particular exercise, we consider a string to have a distance of 0 to another string if it’s equal to it and there is no upper bound on it’s distance. The distance is computed based on the best partial fit s’ has on s or vice-versa, adding 0 for characters in that can align and 1 for every character that does not align. For example, “saint” and “paint” have a distance of 1 as all their characters align but the first one. On the other hand, “ceilings” and “sling” have a distance of 4 as the “ling” sub-string can be aligned but the remaining characters cannot.\n",
    "Implement a function that given two strings, returns the distance between the two.\n",
    "Examples:computeDistance(“belt”, “bell”) -> 1computeDistance(“tree”, “three”) -> 2compteDistance(“prune”, “prawn”) -> 3"
   ]
  },
  {
   "cell_type": "code",
   "execution_count": null,
   "id": "c06553c1",
   "metadata": {},
   "outputs": [],
   "source": [
    "\n",
    "def distance(s, y):\n",
    "    m, n = len(s), len(y)\n",
    "    \n",
    "    d = [[0] * (n +1) for _ in range(m + 1)]\n",
    "    \n",
    "    for i in range (m +1):\n",
    "        d[i][0] = i\n",
    "    for p in range (n + 1):\n",
    "        d[0][p] = p\n",
    "        \n",
    "    for p in range (1, n + 1):\n",
    "        for i in range(1, m +1):\n",
    "            if w[i - 1]== t[j - 1]:\n",
    "                \n"
   ]
  }
 ],
 "metadata": {
  "kernelspec": {
   "display_name": "Python 3 (ipykernel)",
   "language": "python",
   "name": "python3"
  },
  "language_info": {
   "codemirror_mode": {
    "name": "ipython",
    "version": 3
   },
   "file_extension": ".py",
   "mimetype": "text/x-python",
   "name": "python",
   "nbconvert_exporter": "python",
   "pygments_lexer": "ipython3",
   "version": "3.10.9"
  }
 },
 "nbformat": 4,
 "nbformat_minor": 5
}
